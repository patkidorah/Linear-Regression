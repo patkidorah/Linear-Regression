{
 "cells": [
  {
   "cell_type": "code",
   "execution_count": 1,
   "metadata": {},
   "outputs": [],
   "source": [
    "import pandas as pd\n",
    "import matplotlib.pyplot as plt"
   ]
  },
  {
   "cell_type": "code",
   "execution_count": 2,
   "metadata": {},
   "outputs": [
    {
     "data": {
      "text/html": [
       "<div>\n",
       "<style scoped>\n",
       "    .dataframe tbody tr th:only-of-type {\n",
       "        vertical-align: middle;\n",
       "    }\n",
       "\n",
       "    .dataframe tbody tr th {\n",
       "        vertical-align: top;\n",
       "    }\n",
       "\n",
       "    .dataframe thead th {\n",
       "        text-align: right;\n",
       "    }\n",
       "</style>\n",
       "<table border=\"1\" class=\"dataframe\">\n",
       "  <thead>\n",
       "    <tr style=\"text-align: right;\">\n",
       "      <th></th>\n",
       "      <th>TV</th>\n",
       "      <th>Sales</th>\n",
       "    </tr>\n",
       "  </thead>\n",
       "  <tbody>\n",
       "    <tr>\n",
       "      <th>0</th>\n",
       "      <td>230.1</td>\n",
       "      <td>22.1</td>\n",
       "    </tr>\n",
       "    <tr>\n",
       "      <th>1</th>\n",
       "      <td>44.5</td>\n",
       "      <td>10.4</td>\n",
       "    </tr>\n",
       "    <tr>\n",
       "      <th>2</th>\n",
       "      <td>17.2</td>\n",
       "      <td>12.0</td>\n",
       "    </tr>\n",
       "    <tr>\n",
       "      <th>3</th>\n",
       "      <td>151.5</td>\n",
       "      <td>16.5</td>\n",
       "    </tr>\n",
       "    <tr>\n",
       "      <th>4</th>\n",
       "      <td>180.8</td>\n",
       "      <td>17.9</td>\n",
       "    </tr>\n",
       "  </tbody>\n",
       "</table>\n",
       "</div>"
      ],
      "text/plain": [
       "      TV  Sales\n",
       "0  230.1   22.1\n",
       "1   44.5   10.4\n",
       "2   17.2   12.0\n",
       "3  151.5   16.5\n",
       "4  180.8   17.9"
      ]
     },
     "execution_count": 2,
     "metadata": {},
     "output_type": "execute_result"
    }
   ],
   "source": [
    "df = pd.read_csv('Advertising1.csv')\n",
    "df.head() #show 1st - 5th index"
   ]
  },
  {
   "cell_type": "code",
   "execution_count": 3,
   "metadata": {},
   "outputs": [
    {
     "data": {
      "text/html": [
       "<div>\n",
       "<style scoped>\n",
       "    .dataframe tbody tr th:only-of-type {\n",
       "        vertical-align: middle;\n",
       "    }\n",
       "\n",
       "    .dataframe tbody tr th {\n",
       "        vertical-align: top;\n",
       "    }\n",
       "\n",
       "    .dataframe thead th {\n",
       "        text-align: right;\n",
       "    }\n",
       "</style>\n",
       "<table border=\"1\" class=\"dataframe\">\n",
       "  <thead>\n",
       "    <tr style=\"text-align: right;\">\n",
       "      <th></th>\n",
       "      <th>TV</th>\n",
       "      <th>Sales</th>\n",
       "    </tr>\n",
       "  </thead>\n",
       "  <tbody>\n",
       "    <tr>\n",
       "      <th>TV</th>\n",
       "      <td>1.000000</td>\n",
       "      <td>0.901208</td>\n",
       "    </tr>\n",
       "    <tr>\n",
       "      <th>Sales</th>\n",
       "      <td>0.901208</td>\n",
       "      <td>1.000000</td>\n",
       "    </tr>\n",
       "  </tbody>\n",
       "</table>\n",
       "</div>"
      ],
      "text/plain": [
       "             TV     Sales\n",
       "TV     1.000000  0.901208\n",
       "Sales  0.901208  1.000000"
      ]
     },
     "execution_count": 3,
     "metadata": {},
     "output_type": "execute_result"
    }
   ],
   "source": [
    "df.corr()"
   ]
  },
  {
   "cell_type": "code",
   "execution_count": 4,
   "metadata": {},
   "outputs": [
    {
     "data": {
      "text/plain": [
       "Text(0, 0.5, 'Sales')"
      ]
     },
     "execution_count": 4,
     "metadata": {},
     "output_type": "execute_result"
    },
    {
     "data": {
      "image/png": "[encoded data removed]",
      "text/plain": [
       "<Figure size 640x480 with 1 Axes>"
      ]
     },
     "metadata": {},
     "output_type": "display_data"
    }
   ],
   "source": [
    "df.plot(x='TV', y='Sales', style='o')\n",
    "plt.ylabel('Sales')"
   ]
  },
  {
   "cell_type": "code",
   "execution_count": 5,
   "metadata": {},
   "outputs": [],
   "source": [
    "# !pip install scikit-learn"
   ]
  },
  {
   "cell_type": "code",
   "execution_count": 6,
   "metadata": {},
   "outputs": [],
   "source": [
    "from sklearn.linear_model import LinearRegression"
   ]
  },
  {
   "cell_type": "code",
   "execution_count": 7,
   "metadata": {},
   "outputs": [],
   "source": [
    "X = df[['TV']]\n",
    "y = df[['Sales']]"
   ]
  },
  {
   "cell_type": "code",
   "execution_count": 8,
   "metadata": {},
   "outputs": [
    {
     "data": {
      "text/html": [
       "<style>#sk-container-id-1 {color: black;}#sk-container-id-1 pre{padding: 0;}#sk-container-id-1 div.sk-toggleable {background-color: white;}#sk-container-id-1 label.sk-toggleable__label {cursor: pointer;display: block;width: 100%;margin-bottom: 0;padding: 0.3em;box-sizing: border-box;text-align: center;}#sk-container-id-1 label.sk-toggleable__label-arrow:before {content: \"▸\";float: left;margin-right: 0.25em;color: #696969;}#sk-container-id-1 label.sk-toggleable__label-arrow:hover:before {color: black;}#sk-container-id-1 div.sk-estimator:hover label.sk-toggleable__label-arrow:before {color: black;}#sk-container-id-1 div.sk-toggleable__content {max-height: 0;max-width: 0;overflow: hidden;text-align: left;background-color: #f0f8ff;}#sk-container-id-1 div.sk-toggleable__content pre {margin: 0.2em;color: black;border-radius: 0.25em;background-color: #f0f8ff;}#sk-container-id-1 input.sk-toggleable__control:checked~div.sk-toggleable__content {max-height: 200px;max-width: 100%;overflow: auto;}#sk-container-id-1 input.sk-toggleable__control:checked~label.sk-toggleable__label-arrow:before {content: \"▾\";}#sk-container-id-1 div.sk-estimator input.sk-toggleable__control:checked~label.sk-toggleable__label {background-color: #d4ebff;}#sk-container-id-1 div.sk-label input.sk-toggleable__control:checked~label.sk-toggleable__label {background-color: #d4ebff;}#sk-container-id-1 input.sk-hidden--visually {border: 0;clip: rect(1px 1px 1px 1px);clip: rect(1px, 1px, 1px, 1px);height: 1px;margin: -1px;overflow: hidden;padding: 0;position: absolute;width: 1px;}#sk-container-id-1 div.sk-estimator {font-family: monospace;background-color: #f0f8ff;border: 1px dotted black;border-radius: 0.25em;box-sizing: border-box;margin-bottom: 0.5em;}#sk-container-id-1 div.sk-estimator:hover {background-color: #d4ebff;}#sk-container-id-1 div.sk-parallel-item::after {content: \"\";width: 100%;border-bottom: 1px solid gray;flex-grow: 1;}#sk-container-id-1 div.sk-label:hover label.sk-toggleable__label {background-color: #d4ebff;}#sk-container-id-1 div.sk-serial::before {content: \"\";position: absolute;border-left: 1px solid gray;box-sizing: border-box;top: 0;bottom: 0;left: 50%;z-index: 0;}#sk-container-id-1 div.sk-serial {display: flex;flex-direction: column;align-items: center;background-color: white;padding-right: 0.2em;padding-left: 0.2em;position: relative;}#sk-container-id-1 div.sk-item {position: relative;z-index: 1;}#sk-container-id-1 div.sk-parallel {display: flex;align-items: stretch;justify-content: center;background-color: white;position: relative;}#sk-container-id-1 div.sk-item::before, #sk-container-id-1 div.sk-parallel-item::before {content: \"\";position: absolute;border-left: 1px solid gray;box-sizing: border-box;top: 0;bottom: 0;left: 50%;z-index: -1;}#sk-container-id-1 div.sk-parallel-item {display: flex;flex-direction: column;z-index: 1;position: relative;background-color: white;}#sk-container-id-1 div.sk-parallel-item:first-child::after {align-self: flex-end;width: 50%;}#sk-container-id-1 div.sk-parallel-item:last-child::after {align-self: flex-start;width: 50%;}#sk-container-id-1 div.sk-parallel-item:only-child::after {width: 0;}#sk-container-id-1 div.sk-dashed-wrapped {border: 1px dashed gray;margin: 0 0.4em 0.5em 0.4em;box-sizing: border-box;padding-bottom: 0.4em;background-color: white;}#sk-container-id-1 div.sk-label label {font-family: monospace;font-weight: bold;display: inline-block;line-height: 1.2em;}#sk-container-id-1 div.sk-label-container {text-align: center;}#sk-container-id-1 div.sk-container {/* jupyter's `normalize.less` sets `[hidden] { display: none; }` but bootstrap.min.css set `[hidden] { display: none !important; }` so we also need the `!important` here to be able to override the default hidden behavior on the sphinx rendered scikit-learn.org. See: https://github.com/scikit-learn/scikit-learn/issues/21755 */display: inline-block !important;position: relative;}#sk-container-id-1 div.sk-text-repr-fallback {display: none;}</style><div id=\"sk-container-id-1\" class=\"sk-top-container\"><div class=\"sk-text-repr-fallback\"><pre>LinearRegression()</pre><b>In a Jupyter environment, please rerun this cell to show the HTML representation or trust the notebook. <br />On GitHub, the HTML representation is unable to render, please try loading this page with nbviewer.org.</b></div><div class=\"sk-container\" hidden><div class=\"sk-item\"><div class=\"sk-estimator sk-toggleable\"><input class=\"sk-toggleable__control sk-hidden--visually\" id=\"sk-estimator-id-1\" type=\"checkbox\" checked><label for=\"sk-estimator-id-1\" class=\"sk-toggleable__label sk-toggleable__label-arrow\">LinearRegression</label><div class=\"sk-toggleable__content\"><pre>LinearRegression()</pre></div></div></div></div></div>"
      ],
      "text/plain": [
       "LinearRegression()"
      ]
     },
     "execution_count": 8,
     "metadata": {},
     "output_type": "execute_result"
    }
   ],
   "source": [
    "Irm = LinearRegression()\n",
    "Irm.fit(X, y)"
   ]
  },
  {
   "cell_type": "code",
   "execution_count": 9,
   "metadata": {},
   "outputs": [
    {
     "data": {
      "text/plain": [
       "array([6.97482149])"
      ]
     },
     "execution_count": 9,
     "metadata": {},
     "output_type": "execute_result"
    }
   ],
   "source": [
    "Irm.intercept_"
   ]
  },
  {
   "cell_type": "code",
   "execution_count": 10,
   "metadata": {},
   "outputs": [
    {
     "data": {
      "text/plain": [
       "array([[0.05546477]])"
      ]
     },
     "execution_count": 10,
     "metadata": {},
     "output_type": "execute_result"
    }
   ],
   "source": [
    "Irm.coef_"
   ]
  },
  {
   "cell_type": "code",
   "execution_count": 11,
   "metadata": {},
   "outputs": [
    {
     "data": {
      "text/plain": [
       "array([[19.73726517],\n",
       "       [ 9.44300377],\n",
       "       [ 7.92881554],\n",
       "       [15.37773421],\n",
       "       [17.00285199],\n",
       "       [ 7.45736499],\n",
       "       [10.16404579],\n",
       "       [13.6416869 ],\n",
       "       [ 7.45181851],\n",
       "       [18.05668263],\n",
       "       [10.64104282],\n",
       "       [18.88310771],\n",
       "       [ 8.29488303],\n",
       "       [12.38263661],\n",
       "       [18.29518114],\n",
       "       [17.81263764],\n",
       "       [10.73533293],\n",
       "       [22.5826079 ],\n",
       "       [10.8129836 ],\n",
       "       [15.14478218],\n",
       "       [19.08832736],\n",
       "       [20.142158  ],\n",
       "       [ 7.70695646],\n",
       "       [19.63742859],\n",
       "       [10.43027669],\n",
       "       [21.55650964],\n",
       "       [14.90073719],\n",
       "       [20.29191288],\n",
       "       [20.77445638],\n",
       "       [10.89063428],\n",
       "       [23.22045276],\n",
       "       [13.23679407],\n",
       "       [12.36599718],\n",
       "       [21.70626452],\n",
       "       [12.28280002],\n",
       "       [23.09843026],\n",
       "       [21.77836873],\n",
       "       [11.11803984],\n",
       "       [ 9.3653531 ],\n",
       "       [19.62078916],\n",
       "       [18.20643751],\n",
       "       [16.79208586],\n",
       "       [23.2592781 ],\n",
       "       [18.4504825 ],\n",
       "       [ 8.36698723],\n",
       "       [16.6867028 ],\n",
       "       [11.9500114 ],\n",
       "       [20.28081992],\n",
       "       [19.57641734],\n",
       "       [10.68541463],\n",
       "       [18.05668263],\n",
       "       [12.54348444],\n",
       "       [18.97739782],\n",
       "       [17.10268858],\n",
       "       [21.54541669],\n",
       "       [18.00676433],\n",
       "       [ 7.37971431],\n",
       "       [14.52912323],\n",
       "       [18.6667951 ],\n",
       "       [18.66124863],\n",
       "       [ 9.94218671],\n",
       "       [21.46776601],\n",
       "       [20.24754106],\n",
       "       [12.67105342],\n",
       "       [14.2462529 ],\n",
       "       [10.80189065],\n",
       "       [ 8.72196176],\n",
       "       [14.70106401],\n",
       "       [20.142158  ],\n",
       "       [18.99958373],\n",
       "       [18.01785729],\n",
       "       [13.06485329],\n",
       "       [ 8.46127734],\n",
       "       [14.15196279],\n",
       "       [18.81100351],\n",
       "       [ 7.91217611],\n",
       "       [ 8.50010268],\n",
       "       [13.65832633],\n",
       "       [ 7.27433125],\n",
       "       [13.40873486],\n",
       "       [11.21232995],\n",
       "       [20.27527345],\n",
       "       [11.1513187 ],\n",
       "       [10.76861179],\n",
       "       [18.81654998],\n",
       "       [17.69061514],\n",
       "       [11.20678348],\n",
       "       [13.11477158],\n",
       "       [11.87236072],\n",
       "       [13.06485329],\n",
       "       [14.42374016],\n",
       "       [ 8.56111392],\n",
       "       [19.04950202],\n",
       "       [20.8909324 ],\n",
       "       [12.93173784],\n",
       "       [16.03221851],\n",
       "       [17.93466013],\n",
       "       [17.23025755],\n",
       "       [23.04296549],\n",
       "       [14.47365846],\n",
       "       [19.31018644],\n",
       "       [23.41457946],\n",
       "       [22.51605017],\n",
       "       [17.39665186],\n",
       "       [20.18652981],\n",
       "       [14.62341334],\n",
       "       [ 8.36144075],\n",
       "       [11.98883674],\n",
       "       [ 7.70140998],\n",
       "       [21.14052387],\n",
       "       [19.49876666],\n",
       "       [20.38065651],\n",
       "       [16.71998166],\n",
       "       [18.60023738],\n",
       "       [11.31216654],\n",
       "       [11.14022575],\n",
       "       [14.69551754],\n",
       "       [11.21232995],\n",
       "       [13.94674314],\n",
       "       [ 8.05083804],\n",
       "       [14.81199356],\n",
       "       [ 8.01755917],\n",
       "       [19.39893007],\n",
       "       [13.80253473],\n",
       "       [19.70398631],\n",
       "       [11.81134947],\n",
       "       [ 7.4074467 ],\n",
       "       [11.42309608],\n",
       "       [19.19371042],\n",
       "       [10.28052181],\n",
       "       [ 7.01364683],\n",
       "       [21.68407862],\n",
       "       [ 7.44072556],\n",
       "       [19.16597804],\n",
       "       [ 9.02147152],\n",
       "       [ 9.6537699 ],\n",
       "       [ 8.39471961],\n",
       "       [22.15552917],\n",
       "       [ 9.35980662],\n",
       "       [17.23025755],\n",
       "       [11.04593564],\n",
       "       [17.71834753],\n",
       "       [19.20480338],\n",
       "       [12.77643648],\n",
       "       [12.31053241],\n",
       "       [14.75652879],\n",
       "       [20.29191288],\n",
       "       [20.46385367],\n",
       "       [ 9.08248277],\n",
       "       [ 9.45409673],\n",
       "       [22.54378256],\n",
       "       [13.68605872],\n",
       "       [17.93466013],\n",
       "       [16.47593667],\n",
       "       [17.39110538],\n",
       "       [ 7.20222705],\n",
       "       [12.18296344],\n",
       "       [15.2834441 ],\n",
       "       [ 7.6237593 ],\n",
       "       [14.27953176],\n",
       "       [16.54249439],\n",
       "       [11.72815232],\n",
       "       [17.42438424],\n",
       "       [16.04331146],\n",
       "       [13.47529259],\n",
       "       [19.98131016],\n",
       "       [ 7.96764088],\n",
       "       [18.44493602],\n",
       "       [18.92193305],\n",
       "       [22.74345573],\n",
       "       [ 9.74806001],\n",
       "       [16.09877623],\n",
       "       [ 8.06193099],\n",
       "       [16.31508884],\n",
       "       [19.31018644],\n",
       "       [22.33301643],\n",
       "       [20.75227047],\n",
       "       [16.41492542],\n",
       "       [22.32192348],\n",
       "       [16.15978748],\n",
       "       [15.66060454],\n",
       "       [19.09387384],\n",
       "       [10.09194159],\n",
       "       [22.92648948],\n",
       "       [21.05178023],\n",
       "       [18.34509943],\n",
       "       [14.71215697],\n",
       "       [17.57413912],\n",
       "       [22.83774584],\n",
       "       [ 8.0120127 ],\n",
       "       [ 9.16567992],\n",
       "       [11.16241166],\n",
       "       [ 7.92881554],\n",
       "       [16.2263452 ],\n",
       "       [15.27789763],\n",
       "       [ 9.09357572],\n",
       "       [12.19960287],\n",
       "       [16.79208586],\n",
       "       [22.70463039],\n",
       "       [19.84819471]])"
      ]
     },
     "execution_count": 11,
     "metadata": {},
     "output_type": "execute_result"
    }
   ],
   "source": [
    "predictions = Irm.predict(X)\n",
    "predictions"
   ]
  },
  {
   "cell_type": "code",
   "execution_count": 12,
   "metadata": {},
   "outputs": [
    {
     "data": {
      "text/plain": [
       "Text(0, 0.5, 'Sales')"
      ]
     },
     "execution_count": 12,
     "metadata": {},
     "output_type": "execute_result"
    },
    {
     "data": {
      "image/png": "[encoded data removed]",
      "text/plain": [
       "<Figure size 640x480 with 1 Axes>"
      ]
     },
     "metadata": {},
     "output_type": "display_data"
    }
   ],
   "source": [
    "plt.scatter(X, y, color = \"blue\")\n",
    "plt.plot(X, predictions, color = 'red', linewidth=3)\n",
    "plt.xlabel('TV')\n",
    "plt.ylabel('Sales')"
   ]
  },
  {
   "cell_type": "code",
   "execution_count": 13,
   "metadata": {},
   "outputs": [
    {
     "name": "stderr",
     "output_type": "stream",
     "text": [
      "C:\\Users\\Lenovo\\AppData\\Local\\Packages\\PythonSoftwareFoundation.Python.3.10_qbz5n2kfra8p0\\LocalCache\\local-packages\\Python310\\site-packages\\sklearn\\base.py:465: UserWarning: X does not have valid feature names, but LinearRegression was fitted with feature names\n",
      "  warnings.warn(\n"
     ]
    },
    {
     "data": {
      "text/plain": [
       "array([[14.18524165]])"
      ]
     },
     "execution_count": 13,
     "metadata": {},
     "output_type": "execute_result"
    }
   ],
   "source": [
    "Irm.predict([[130]])"
   ]
  },
  {
   "cell_type": "code",
   "execution_count": 14,
   "metadata": {},
   "outputs": [
    {
     "name": "stderr",
     "output_type": "stream",
     "text": [
      "C:\\Users\\Lenovo\\AppData\\Local\\Packages\\PythonSoftwareFoundation.Python.3.10_qbz5n2kfra8p0\\LocalCache\\local-packages\\Python310\\site-packages\\sklearn\\base.py:465: UserWarning: X does not have valid feature names, but LinearRegression was fitted with feature names\n",
      "  warnings.warn(\n"
     ]
    },
    {
     "data": {
      "text/plain": [
       "array([[23.61425263]])"
      ]
     },
     "execution_count": 14,
     "metadata": {},
     "output_type": "execute_result"
    }
   ],
   "source": [
    "Irm.predict([[300]])"
   ]
  },
  {
   "cell_type": "code",
   "execution_count": 15,
   "metadata": {},
   "outputs": [
    {
     "data": {
      "text/plain": [
       "1.8305872641932412"
      ]
     },
     "execution_count": 15,
     "metadata": {},
     "output_type": "execute_result"
    }
   ],
   "source": [
    "from sklearn import metrics\n",
    "metrics.mean_absolute_error(y, predictions)"
   ]
  }
 ],
 "metadata": {
  "kernelspec": {
   "display_name": "Pandy",
   "language": "python",
   "name": "python3"
  },
  "language_info": {
   "codemirror_mode": {
    "name": "ipython",
    "version": 3
   },
   "file_extension": ".py",
   "mimetype": "text/x-python",
   "name": "python",
   "nbconvert_exporter": "python",
   "pygments_lexer": "ipython3",
   "version": "3.10.11"
  },
  "orig_nbformat": 4
 },
 "nbformat": 4,
 "nbformat_minor": 2
}
